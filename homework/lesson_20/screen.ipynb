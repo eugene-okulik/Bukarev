{
 "cells": [
  {
   "metadata": {},
   "cell_type": "markdown",
   "source": [
    "![Мой скриншот](./main.png)\n",
    "\n"
   ],
   "id": "1118192687ffec17"
  },
  {
   "metadata": {},
   "cell_type": "markdown",
   "source": "![Мой скриншот](./main2.png)",
   "id": "f2b08250a788139e"
  },
  {
   "metadata": {},
   "cell_type": "markdown",
   "source": "",
   "id": "f1ea6ecbc5373e52"
  }
 ],
 "metadata": {
  "kernelspec": {
   "display_name": "Python 3",
   "language": "python",
   "name": "python3"
  },
  "language_info": {
   "codemirror_mode": {
    "name": "ipython",
    "version": 2
   },
   "file_extension": ".py",
   "mimetype": "text/x-python",
   "name": "python",
   "nbconvert_exporter": "python",
   "pygments_lexer": "ipython2",
   "version": "2.7.6"
  }
 },
 "nbformat": 4,
 "nbformat_minor": 5
}
